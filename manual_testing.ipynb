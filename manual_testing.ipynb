{
 "cells": [
  {
   "cell_type": "code",
   "execution_count": 1,
   "metadata": {},
   "outputs": [],
   "source": [
    "import tree\n",
    "\n",
    "def p_liscia(g: int):\n",
    "    if g == 0:\n",
    "        return 0.0\n",
    "    else:\n",
    "        return 0.25"
   ]
  },
  {
   "cell_type": "code",
   "execution_count": 2,
   "metadata": {},
   "outputs": [],
   "source": [
    "res = tree.init_tree(4, 2, [(1, 5), (1, 5)], 2, p_liscia)\n",
    "res2 = tree.init_tree(4, 2, [(1, 5), (1, 5)], 2, p_liscia)"
   ]
  },
  {
   "cell_type": "code",
   "execution_count": 3,
   "metadata": {},
   "outputs": [
    {
     "name": "stdout",
     "output_type": "stream",
     "text": [
      "                                   (1|1.70)                                    \n",
      "                  [1]                                  (0|1.49)                \n",
      "                                             (1|2.74)            (1|2.18)      \n",
      "                                        (1|2.18)  (1|1.86)  (1|3.56)  (0|3.27) \n",
      "                                        [0]  [1]  [0]  [1]  [1]  [0]  [1]  [0] \n",
      "\n",
      "\n",
      "\n",
      "                                   (0|3.41)                                    \n",
      "               (0|2.18)                                (0|2.18)                \n",
      "     (0|2.74)            (0|2.99)            (1|1.54)            (0|3.35)      \n",
      "(1|3.18)  (1|3.61)  (1|3.65)     [1]    (1|4.89)  (1|3.79)  (1|3.88)  (1|4.95) \n",
      "[1]  [0]  [0]  [1]  [1]  [0]            [1]  [0]  [1]  [0]  [0]  [1]  [1]  [0] \n"
     ]
    }
   ],
   "source": [
    "tree.print_tree(res)\n",
    "print(\"\\n\\n\")\n",
    "tree.print_tree(res2)"
   ]
  },
  {
   "cell_type": "code",
   "execution_count": 4,
   "metadata": {},
   "outputs": [],
   "source": [
    "from reproduction import *\n",
    "from matplotlib import pyplot as plt\n",
    "from tree import *"
   ]
  },
  {
   "cell_type": "code",
   "execution_count": 5,
   "metadata": {},
   "outputs": [
    {
     "data": {
      "image/png": "[encoded data removed]",
      "text/plain": [
       "<Figure size 640x480 with 1 Axes>"
      ]
     },
     "metadata": {},
     "output_type": "display_data"
    }
   ],
   "source": [
    "trees = [DecisionTree(LeafNode(0)) for _ in range(20)]\n",
    "fitnesses = [float(x ** 2) for x in range(20)]\n",
    "selected: list[DecisionTree] = []\n",
    "for _ in range(20000):\n",
    "    # selected += proportional_reproduction(trees, fitnesses)\n",
    "    # selected += rank_reproduction(trees, fitnesses, 1/4, 1/4)\n",
    "    # selected += truncation_reproduction(trees, fitnesses, 2/3)\n",
    "    selected += tournament_reproduction(trees, fitnesses, 2)\n",
    "counts = [0] * 20\n",
    "for tree in selected:\n",
    "    counts[trees.index(tree)] += 1\n",
    "plt.bar(list(range(20)), counts)\n",
    "plt.xticks(list(range(20)), [str(i) for i in range(20)])\n",
    "plt.show()"
   ]
  },
  {
   "cell_type": "code",
   "execution_count": 6,
   "metadata": {},
   "outputs": [],
   "source": [
    "from evo_tree import *\n",
    "from succesion import *\n",
    "from sklearn.model_selection import train_test_split\n",
    "import pandas as pd\n",
    "from ucimlrepo import fetch_ucirepo\n",
    "from random import seed\n",
    "from helpers import cross_validate"
   ]
  },
  {
   "cell_type": "code",
   "execution_count": 7,
   "metadata": {},
   "outputs": [
    {
     "name": "stdout",
     "output_type": "stream",
     "text": [
      "0.6637362637362637 0.15337447316367384 0.45054945054945056 0.8241758241758241\n"
     ]
    }
   ],
   "source": [
    "seed(0)\n",
    "\n",
    "tree = EvoTree(\n",
    "    5, 10, lambda x: 1 - (1 / (x + 1)), 500,\n",
    "    proportional_reproduction, 0, 0, 0,\n",
    "    generational_succession\n",
    "    )\n",
    "\n",
    "data = fetch_ucirepo(id=17).data  # type: ignore\n",
    "\n",
    "target = data.targets.squeeze()  # type: ignore\n",
    "\n",
    "attrs = data.features  # type: ignore\n",
    "\n",
    "x, x_test, y, y_test = train_test_split(\n",
    "    attrs, target, test_size=0.2, random_state=42)\n",
    "\n",
    "X, X_ts, y, y_ts = train_test_split(attrs, target, test_size=0.2, random_state=42)\n",
    "\n",
    "accuracy, std_dev, min_score, max_score = cross_validate(\n",
    "                                    tree, x, y)\n",
    "\n",
    "print(accuracy, std_dev, min_score, max_score)"
   ]
  }
 ],
 "metadata": {
  "kernelspec": {
   "display_name": "Python 3",
   "language": "python",
   "name": "python3"
  },
  "language_info": {
   "codemirror_mode": {
    "name": "ipython",
    "version": 3
   },
   "file_extension": ".py",
   "mimetype": "text/x-python",
   "name": "python",
   "nbconvert_exporter": "python",
   "pygments_lexer": "ipython3",
   "version": "3.11.7"
  }
 },
 "nbformat": 4,
 "nbformat_minor": 2
}
